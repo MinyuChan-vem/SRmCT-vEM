{
 "cells": [
  {
   "cell_type": "code",
   "execution_count": 2,
   "id": "e1fb4ec1-6098-43fd-8891-61ed3a9ba1ab",
   "metadata": {},
   "outputs": [
    {
     "name": "stdout",
     "output_type": "stream",
     "text": [
      "Requirement already satisfied: tqdm in ./miniconda3/envs/tomo-env/lib/python3.9/site-packages (4.67.1)\n"
     ]
    }
   ],
   "source": [
    "!pip install tqdm"
   ]
  },
  {
   "cell_type": "code",
   "execution_count": 3,
   "id": "fdf8b38f-8184-4bf5-9883-1645dab50e0c",
   "metadata": {},
   "outputs": [],
   "source": [
    "import numpy as np\n",
    "import tifffile\n",
    "import tomopy\n",
    "import matplotlib.pyplot as plt\n",
    "from tqdm import tqdm"
   ]
  },
  {
   "cell_type": "code",
   "execution_count": 4,
   "id": "6ee04abf-659d-490f-afcc-a8a659b9e2cf",
   "metadata": {},
   "outputs": [
    {
     "name": "stdout",
     "output_type": "stream",
     "text": [
      "Stack shape: (2160, 1855, 1719)\n",
      "Example slice shape: (1855, 1719)\n"
     ]
    }
   ],
   "source": [
    "# Load the TIFF stack\n",
    "tiff_path = \"/home/minyu/recon_025_AS1.6_4DPF_WB_18x(361nm).tiff\"  # or \"your_file.tif\" for multipage\n",
    "stack = tifffile.imread(tiff_path).astype(np.float32)\n",
    "\n",
    "print(\"Stack shape:\", stack.shape)\n",
    "stack /= np.max(stack)\n",
    "\n",
    "print(\"Example slice shape:\", stack[0].shape)\n"
   ]
  },
  {
   "cell_type": "code",
   "execution_count": null,
   "id": "0ea00685-2bb8-422e-9ec5-cb509e561669",
   "metadata": {},
   "outputs": [
    {
     "name": "stderr",
     "output_type": "stream",
     "text": [
      "Removing ring artifacts:   0%|                                                         | 1/2160 [00:00<22:53,  1.57it/s]"
     ]
    },
    {
     "name": "stdout",
     "output_type": "stream",
     "text": [
      "❌ Error on slice 0: not enough values to unpack (expected 3, got 2)\n"
     ]
    },
    {
     "name": "stderr",
     "output_type": "stream",
     "text": [
      "Removing ring artifacts:   0%|                                                         | 2/2160 [00:01<20:12,  1.78it/s]"
     ]
    },
    {
     "name": "stdout",
     "output_type": "stream",
     "text": [
      "❌ Error on slice 1: not enough values to unpack (expected 3, got 2)\n"
     ]
    },
    {
     "name": "stderr",
     "output_type": "stream",
     "text": [
      "Removing ring artifacts:   0%|                                                         | 3/2160 [00:01<20:25,  1.76it/s]"
     ]
    },
    {
     "name": "stdout",
     "output_type": "stream",
     "text": [
      "❌ Error on slice 2: not enough values to unpack (expected 3, got 2)\n"
     ]
    },
    {
     "name": "stderr",
     "output_type": "stream",
     "text": [
      "Removing ring artifacts:   0%|                                                         | 4/2160 [00:02<19:59,  1.80it/s]"
     ]
    },
    {
     "name": "stdout",
     "output_type": "stream",
     "text": [
      "❌ Error on slice 3: not enough values to unpack (expected 3, got 2)\n"
     ]
    },
    {
     "name": "stderr",
     "output_type": "stream",
     "text": [
      "Removing ring artifacts:   0%|▏                                                        | 5/2160 [00:02<19:36,  1.83it/s]"
     ]
    },
    {
     "name": "stdout",
     "output_type": "stream",
     "text": [
      "❌ Error on slice 4: not enough values to unpack (expected 3, got 2)\n"
     ]
    },
    {
     "name": "stderr",
     "output_type": "stream",
     "text": [
      "Removing ring artifacts:   0%|▏                                                        | 6/2160 [00:03<19:19,  1.86it/s]"
     ]
    },
    {
     "name": "stdout",
     "output_type": "stream",
     "text": [
      "❌ Error on slice 5: not enough values to unpack (expected 3, got 2)\n"
     ]
    },
    {
     "name": "stderr",
     "output_type": "stream",
     "text": [
      "Removing ring artifacts:   0%|▏                                                        | 7/2160 [00:03<18:50,  1.90it/s]"
     ]
    },
    {
     "name": "stdout",
     "output_type": "stream",
     "text": [
      "❌ Error on slice 6: not enough values to unpack (expected 3, got 2)\n"
     ]
    },
    {
     "name": "stderr",
     "output_type": "stream",
     "text": [
      "Removing ring artifacts:   0%|▏                                                        | 8/2160 [00:04<20:05,  1.78it/s]"
     ]
    },
    {
     "name": "stdout",
     "output_type": "stream",
     "text": [
      "❌ Error on slice 7: not enough values to unpack (expected 3, got 2)\n"
     ]
    },
    {
     "name": "stderr",
     "output_type": "stream",
     "text": [
      "Process ForkPoolWorker-221:\n",
      "Process ForkPoolWorker-211:\n",
      "Process ForkPoolWorker-219:\n",
      "Process ForkPoolWorker-220:\n",
      "Process ForkPoolWorker-218:\n",
      "Exception ignored in: <function _releaseLock at 0x7fc309af4550>\n",
      "Traceback (most recent call last):\n",
      "  File \"/home/minyu/miniconda3/envs/tomo-env/lib/python3.9/logging/__init__.py\", line 227, in _releaseLock\n",
      "    def _releaseLock():\n",
      "KeyboardInterrupt: \n",
      "Process ForkPoolWorker-222:\n",
      "Process ForkPoolWorker-210:\n",
      "Process ForkPoolWorker-216:\n",
      "Process ForkPoolWorker-217:\n",
      "Process ForkPoolWorker-215:\n",
      "Process ForkPoolWorker-209:\n",
      "Process ForkPoolWorker-206:\n",
      "Process ForkPoolWorker-213:\n",
      "Process ForkPoolWorker-208:\n",
      "Process ForkPoolWorker-205:\n",
      "Process ForkPoolWorker-207:\n",
      "Process ForkPoolWorker-203:\n",
      "Process ForkPoolWorker-202:\n",
      "Process ForkPoolWorker-214:\n",
      "Process ForkPoolWorker-204:\n",
      "Process ForkPoolWorker-212:\n",
      "Traceback (most recent call last):\n",
      "Traceback (most recent call last):\n",
      "Traceback (most recent call last):\n",
      "Traceback (most recent call last):\n",
      "Traceback (most recent call last):\n",
      "Traceback (most recent call last):\n",
      "Traceback (most recent call last):\n",
      "Traceback (most recent call last):\n",
      "Traceback (most recent call last):\n",
      "Traceback (most recent call last):\n",
      "Traceback (most recent call last):\n",
      "  File \"/home/minyu/miniconda3/envs/tomo-env/lib/python3.9/multiprocessing/process.py\", line 315, in _bootstrap\n",
      "    self.run()\n",
      "Traceback (most recent call last):\n",
      "Traceback (most recent call last):\n",
      "  File \"/home/minyu/miniconda3/envs/tomo-env/lib/python3.9/multiprocessing/process.py\", line 315, in _bootstrap\n",
      "    self.run()\n",
      "  File \"/home/minyu/miniconda3/envs/tomo-env/lib/python3.9/multiprocessing/process.py\", line 315, in _bootstrap\n",
      "    self.run()\n",
      "Traceback (most recent call last):\n",
      "Traceback (most recent call last):\n",
      "Traceback (most recent call last):\n",
      "Traceback (most recent call last):\n",
      "Traceback (most recent call last):\n",
      "  File \"/home/minyu/miniconda3/envs/tomo-env/lib/python3.9/multiprocessing/process.py\", line 315, in _bootstrap\n",
      "    self.run()\n",
      "  File \"/home/minyu/miniconda3/envs/tomo-env/lib/python3.9/multiprocessing/process.py\", line 315, in _bootstrap\n",
      "    self.run()\n",
      "  File \"/home/minyu/miniconda3/envs/tomo-env/lib/python3.9/multiprocessing/process.py\", line 315, in _bootstrap\n",
      "    self.run()\n",
      "  File \"/home/minyu/miniconda3/envs/tomo-env/lib/python3.9/multiprocessing/process.py\", line 315, in _bootstrap\n",
      "    self.run()\n",
      "Traceback (most recent call last):\n",
      "  File \"/home/minyu/miniconda3/envs/tomo-env/lib/python3.9/multiprocessing/process.py\", line 315, in _bootstrap\n",
      "    self.run()\n",
      "  File \"/home/minyu/miniconda3/envs/tomo-env/lib/python3.9/multiprocessing/process.py\", line 315, in _bootstrap\n",
      "    self.run()\n",
      "  File \"/home/minyu/miniconda3/envs/tomo-env/lib/python3.9/multiprocessing/process.py\", line 315, in _bootstrap\n",
      "    self.run()\n",
      "Traceback (most recent call last):\n",
      "  File \"/home/minyu/miniconda3/envs/tomo-env/lib/python3.9/multiprocessing/process.py\", line 315, in _bootstrap\n",
      "    self.run()\n",
      "  File \"/home/minyu/miniconda3/envs/tomo-env/lib/python3.9/multiprocessing/process.py\", line 315, in _bootstrap\n",
      "    self.run()\n",
      "Traceback (most recent call last):\n",
      "  File \"/home/minyu/miniconda3/envs/tomo-env/lib/python3.9/multiprocessing/process.py\", line 315, in _bootstrap\n",
      "    self.run()\n",
      "  File \"/home/minyu/miniconda3/envs/tomo-env/lib/python3.9/multiprocessing/process.py\", line 315, in _bootstrap\n",
      "    self.run()\n",
      "  File \"/home/minyu/miniconda3/envs/tomo-env/lib/python3.9/multiprocessing/process.py\", line 315, in _bootstrap\n",
      "    self.run()\n",
      "  File \"/home/minyu/miniconda3/envs/tomo-env/lib/python3.9/multiprocessing/process.py\", line 108, in run\n",
      "    self._target(*self._args, **self._kwargs)\n",
      "  File \"/home/minyu/miniconda3/envs/tomo-env/lib/python3.9/multiprocessing/process.py\", line 108, in run\n",
      "    self._target(*self._args, **self._kwargs)\n",
      "  File \"/home/minyu/miniconda3/envs/tomo-env/lib/python3.9/multiprocessing/process.py\", line 315, in _bootstrap\n",
      "    self.run()\n",
      "  File \"/home/minyu/miniconda3/envs/tomo-env/lib/python3.9/multiprocessing/process.py\", line 108, in run\n",
      "    self._target(*self._args, **self._kwargs)\n",
      "  File \"/home/minyu/miniconda3/envs/tomo-env/lib/python3.9/multiprocessing/process.py\", line 108, in run\n",
      "    self._target(*self._args, **self._kwargs)\n",
      "  File \"/home/minyu/miniconda3/envs/tomo-env/lib/python3.9/multiprocessing/process.py\", line 108, in run\n",
      "    self._target(*self._args, **self._kwargs)\n",
      "  File \"/home/minyu/miniconda3/envs/tomo-env/lib/python3.9/multiprocessing/process.py\", line 108, in run\n",
      "    self._target(*self._args, **self._kwargs)\n",
      "  File \"/home/minyu/miniconda3/envs/tomo-env/lib/python3.9/multiprocessing/process.py\", line 108, in run\n",
      "    self._target(*self._args, **self._kwargs)\n",
      "  File \"/home/minyu/miniconda3/envs/tomo-env/lib/python3.9/multiprocessing/process.py\", line 315, in _bootstrap\n",
      "    self.run()\n",
      "  File \"/home/minyu/miniconda3/envs/tomo-env/lib/python3.9/multiprocessing/process.py\", line 108, in run\n",
      "    self._target(*self._args, **self._kwargs)\n",
      "  File \"/home/minyu/miniconda3/envs/tomo-env/lib/python3.9/multiprocessing/process.py\", line 315, in _bootstrap\n",
      "    self.run()\n",
      "  File \"/home/minyu/miniconda3/envs/tomo-env/lib/python3.9/multiprocessing/process.py\", line 108, in run\n",
      "    self._target(*self._args, **self._kwargs)\n",
      "  File \"/home/minyu/miniconda3/envs/tomo-env/lib/python3.9/multiprocessing/process.py\", line 108, in run\n",
      "    self._target(*self._args, **self._kwargs)\n",
      "  File \"/home/minyu/miniconda3/envs/tomo-env/lib/python3.9/multiprocessing/process.py\", line 108, in run\n",
      "    self._target(*self._args, **self._kwargs)\n",
      "  File \"/home/minyu/miniconda3/envs/tomo-env/lib/python3.9/multiprocessing/process.py\", line 315, in _bootstrap\n",
      "    self.run()\n",
      "  File \"/home/minyu/miniconda3/envs/tomo-env/lib/python3.9/multiprocessing/process.py\", line 315, in _bootstrap\n",
      "    self.run()\n",
      "  File \"/home/minyu/miniconda3/envs/tomo-env/lib/python3.9/multiprocessing/process.py\", line 108, in run\n",
      "    self._target(*self._args, **self._kwargs)\n",
      "  File \"/home/minyu/miniconda3/envs/tomo-env/lib/python3.9/multiprocessing/process.py\", line 108, in run\n",
      "    self._target(*self._args, **self._kwargs)\n",
      "  File \"/home/minyu/miniconda3/envs/tomo-env/lib/python3.9/multiprocessing/process.py\", line 315, in _bootstrap\n",
      "    self.run()\n",
      "  File \"/home/minyu/miniconda3/envs/tomo-env/lib/python3.9/multiprocessing/process.py\", line 108, in run\n",
      "    self._target(*self._args, **self._kwargs)\n",
      "  File \"/home/minyu/miniconda3/envs/tomo-env/lib/python3.9/multiprocessing/process.py\", line 108, in run\n",
      "    self._target(*self._args, **self._kwargs)\n",
      "  File \"/home/minyu/miniconda3/envs/tomo-env/lib/python3.9/multiprocessing/pool.py\", line 114, in worker\n",
      "    task = get()\n",
      "  File \"/home/minyu/miniconda3/envs/tomo-env/lib/python3.9/multiprocessing/pool.py\", line 114, in worker\n",
      "    task = get()\n",
      "  File \"/home/minyu/miniconda3/envs/tomo-env/lib/python3.9/multiprocessing/pool.py\", line 114, in worker\n",
      "    task = get()\n",
      "  File \"/home/minyu/miniconda3/envs/tomo-env/lib/python3.9/multiprocessing/process.py\", line 108, in run\n",
      "    self._target(*self._args, **self._kwargs)\n",
      "  File \"/home/minyu/miniconda3/envs/tomo-env/lib/python3.9/multiprocessing/pool.py\", line 114, in worker\n",
      "    task = get()\n",
      "  File \"/home/minyu/miniconda3/envs/tomo-env/lib/python3.9/multiprocessing/pool.py\", line 114, in worker\n",
      "    task = get()\n",
      "  File \"/home/minyu/miniconda3/envs/tomo-env/lib/python3.9/multiprocessing/pool.py\", line 114, in worker\n",
      "    task = get()\n",
      "  File \"/home/minyu/miniconda3/envs/tomo-env/lib/python3.9/multiprocessing/pool.py\", line 114, in worker\n",
      "    task = get()\n",
      "  File \"/home/minyu/miniconda3/envs/tomo-env/lib/python3.9/multiprocessing/process.py\", line 108, in run\n",
      "    self._target(*self._args, **self._kwargs)\n",
      "  File \"/home/minyu/miniconda3/envs/tomo-env/lib/python3.9/multiprocessing/pool.py\", line 114, in worker\n",
      "    task = get()\n",
      "  File \"/home/minyu/miniconda3/envs/tomo-env/lib/python3.9/multiprocessing/process.py\", line 108, in run\n",
      "    self._target(*self._args, **self._kwargs)\n",
      "  File \"/home/minyu/miniconda3/envs/tomo-env/lib/python3.9/multiprocessing/pool.py\", line 114, in worker\n",
      "    task = get()\n",
      "  File \"/home/minyu/miniconda3/envs/tomo-env/lib/python3.9/multiprocessing/pool.py\", line 114, in worker\n",
      "    task = get()\n",
      "  File \"/home/minyu/miniconda3/envs/tomo-env/lib/python3.9/multiprocessing/pool.py\", line 114, in worker\n",
      "    task = get()\n",
      "  File \"/home/minyu/miniconda3/envs/tomo-env/lib/python3.9/multiprocessing/process.py\", line 108, in run\n",
      "    self._target(*self._args, **self._kwargs)\n",
      "  File \"/home/minyu/miniconda3/envs/tomo-env/lib/python3.9/multiprocessing/pool.py\", line 114, in worker\n",
      "    task = get()\n",
      "  File \"/home/minyu/miniconda3/envs/tomo-env/lib/python3.9/multiprocessing/process.py\", line 108, in run\n",
      "    self._target(*self._args, **self._kwargs)\n",
      "  File \"/home/minyu/miniconda3/envs/tomo-env/lib/python3.9/multiprocessing/process.py\", line 108, in run\n",
      "    self._target(*self._args, **self._kwargs)\n",
      "  File \"/home/minyu/miniconda3/envs/tomo-env/lib/python3.9/multiprocessing/pool.py\", line 114, in worker\n",
      "    task = get()\n",
      "  File \"/home/minyu/miniconda3/envs/tomo-env/lib/python3.9/multiprocessing/queues.py\", line 364, in get\n",
      "    with self._rlock:\n",
      "  File \"/home/minyu/miniconda3/envs/tomo-env/lib/python3.9/multiprocessing/pool.py\", line 114, in worker\n",
      "    task = get()\n",
      "  File \"/home/minyu/miniconda3/envs/tomo-env/lib/python3.9/multiprocessing/pool.py\", line 114, in worker\n",
      "    task = get()\n",
      "  File \"/home/minyu/miniconda3/envs/tomo-env/lib/python3.9/multiprocessing/queues.py\", line 364, in get\n",
      "    with self._rlock:\n",
      "  File \"/home/minyu/miniconda3/envs/tomo-env/lib/python3.9/multiprocessing/queues.py\", line 364, in get\n",
      "    with self._rlock:\n",
      "  File \"/home/minyu/miniconda3/envs/tomo-env/lib/python3.9/multiprocessing/queues.py\", line 364, in get\n",
      "    with self._rlock:\n",
      "  File \"/home/minyu/miniconda3/envs/tomo-env/lib/python3.9/multiprocessing/queues.py\", line 364, in get\n",
      "    with self._rlock:\n",
      "  File \"/home/minyu/miniconda3/envs/tomo-env/lib/python3.9/multiprocessing/queues.py\", line 364, in get\n",
      "    with self._rlock:\n",
      "  File \"/home/minyu/miniconda3/envs/tomo-env/lib/python3.9/multiprocessing/queues.py\", line 364, in get\n",
      "    with self._rlock:\n",
      "  File \"/home/minyu/miniconda3/envs/tomo-env/lib/python3.9/multiprocessing/pool.py\", line 114, in worker\n",
      "    task = get()\n",
      "  File \"/home/minyu/miniconda3/envs/tomo-env/lib/python3.9/multiprocessing/queues.py\", line 364, in get\n",
      "    with self._rlock:\n",
      "  File \"/home/minyu/miniconda3/envs/tomo-env/lib/python3.9/multiprocessing/queues.py\", line 364, in get\n",
      "    with self._rlock:\n",
      "  File \"/home/minyu/miniconda3/envs/tomo-env/lib/python3.9/multiprocessing/queues.py\", line 364, in get\n",
      "    with self._rlock:\n",
      "  File \"/home/minyu/miniconda3/envs/tomo-env/lib/python3.9/multiprocessing/pool.py\", line 114, in worker\n",
      "    task = get()\n",
      "  File \"/home/minyu/miniconda3/envs/tomo-env/lib/python3.9/multiprocessing/pool.py\", line 114, in worker\n",
      "    task = get()\n",
      "  File \"/home/minyu/miniconda3/envs/tomo-env/lib/python3.9/multiprocessing/pool.py\", line 114, in worker\n",
      "    task = get()\n",
      "  File \"/home/minyu/miniconda3/envs/tomo-env/lib/python3.9/multiprocessing/queues.py\", line 364, in get\n",
      "    with self._rlock:\n",
      "  File \"/home/minyu/miniconda3/envs/tomo-env/lib/python3.9/multiprocessing/pool.py\", line 114, in worker\n",
      "    task = get()\n",
      "  File \"/home/minyu/miniconda3/envs/tomo-env/lib/python3.9/multiprocessing/queues.py\", line 364, in get\n",
      "    with self._rlock:\n",
      "  File \"/home/minyu/miniconda3/envs/tomo-env/lib/python3.9/multiprocessing/pool.py\", line 114, in worker\n",
      "    task = get()\n",
      "  File \"/home/minyu/miniconda3/envs/tomo-env/lib/python3.9/multiprocessing/synchronize.py\", line 95, in __enter__\n",
      "    return self._semlock.__enter__()\n",
      "  File \"/home/minyu/miniconda3/envs/tomo-env/lib/python3.9/multiprocessing/synchronize.py\", line 95, in __enter__\n",
      "    return self._semlock.__enter__()\n",
      "  File \"/home/minyu/miniconda3/envs/tomo-env/lib/python3.9/multiprocessing/synchronize.py\", line 95, in __enter__\n",
      "    return self._semlock.__enter__()\n",
      "  File \"/home/minyu/miniconda3/envs/tomo-env/lib/python3.9/multiprocessing/queues.py\", line 364, in get\n",
      "    with self._rlock:\n",
      "  File \"/home/minyu/miniconda3/envs/tomo-env/lib/python3.9/multiprocessing/synchronize.py\", line 95, in __enter__\n",
      "    return self._semlock.__enter__()\n",
      "  File \"/home/minyu/miniconda3/envs/tomo-env/lib/python3.9/multiprocessing/synchronize.py\", line 95, in __enter__\n",
      "    return self._semlock.__enter__()\n",
      "  File \"/home/minyu/miniconda3/envs/tomo-env/lib/python3.9/multiprocessing/synchronize.py\", line 95, in __enter__\n",
      "    return self._semlock.__enter__()\n",
      "  File \"/home/minyu/miniconda3/envs/tomo-env/lib/python3.9/multiprocessing/synchronize.py\", line 95, in __enter__\n",
      "    return self._semlock.__enter__()\n",
      "  File \"/home/minyu/miniconda3/envs/tomo-env/lib/python3.9/multiprocessing/queues.py\", line 364, in get\n",
      "    with self._rlock:\n",
      "  File \"/home/minyu/miniconda3/envs/tomo-env/lib/python3.9/multiprocessing/synchronize.py\", line 95, in __enter__\n",
      "    return self._semlock.__enter__()\n",
      "  File \"/home/minyu/miniconda3/envs/tomo-env/lib/python3.9/multiprocessing/synchronize.py\", line 95, in __enter__\n",
      "    return self._semlock.__enter__()\n",
      "  File \"/home/minyu/miniconda3/envs/tomo-env/lib/python3.9/multiprocessing/queues.py\", line 364, in get\n",
      "    with self._rlock:\n",
      "  File \"/home/minyu/miniconda3/envs/tomo-env/lib/python3.9/multiprocessing/queues.py\", line 364, in get\n",
      "    with self._rlock:\n",
      "  File \"/home/minyu/miniconda3/envs/tomo-env/lib/python3.9/multiprocessing/queues.py\", line 365, in get\n",
      "    res = self._reader.recv_bytes()\n",
      "  File \"/home/minyu/miniconda3/envs/tomo-env/lib/python3.9/multiprocessing/synchronize.py\", line 95, in __enter__\n",
      "    return self._semlock.__enter__()\n",
      "  File \"/home/minyu/miniconda3/envs/tomo-env/lib/python3.9/multiprocessing/queues.py\", line 364, in get\n",
      "    with self._rlock:\n",
      "  File \"/home/minyu/miniconda3/envs/tomo-env/lib/python3.9/multiprocessing/synchronize.py\", line 95, in __enter__\n",
      "    return self._semlock.__enter__()\n",
      "  File \"/home/minyu/miniconda3/envs/tomo-env/lib/python3.9/multiprocessing/queues.py\", line 364, in get\n",
      "    with self._rlock:\n",
      "KeyboardInterrupt\n",
      "KeyboardInterrupt\n",
      "  File \"/home/minyu/miniconda3/envs/tomo-env/lib/python3.9/multiprocessing/synchronize.py\", line 95, in __enter__\n",
      "    return self._semlock.__enter__()\n",
      "KeyboardInterrupt\n",
      "KeyboardInterrupt\n",
      "KeyboardInterrupt\n",
      "KeyboardInterrupt\n",
      "KeyboardInterrupt\n",
      "KeyboardInterrupt\n",
      "KeyboardInterrupt\n",
      "  File \"/home/minyu/miniconda3/envs/tomo-env/lib/python3.9/multiprocessing/synchronize.py\", line 95, in __enter__\n",
      "    return self._semlock.__enter__()\n",
      "  File \"/home/minyu/miniconda3/envs/tomo-env/lib/python3.9/multiprocessing/synchronize.py\", line 95, in __enter__\n",
      "    return self._semlock.__enter__()\n",
      "  File \"/home/minyu/miniconda3/envs/tomo-env/lib/python3.9/multiprocessing/connection.py\", line 216, in recv_bytes\n",
      "    buf = self._recv_bytes(maxlength)\n",
      "  File \"/home/minyu/miniconda3/envs/tomo-env/lib/python3.9/multiprocessing/synchronize.py\", line 95, in __enter__\n",
      "    return self._semlock.__enter__()\n",
      "  File \"/home/minyu/miniconda3/envs/tomo-env/lib/python3.9/multiprocessing/synchronize.py\", line 95, in __enter__\n",
      "    return self._semlock.__enter__()\n",
      "KeyboardInterrupt\n",
      "KeyboardInterrupt\n",
      "  File \"/home/minyu/miniconda3/envs/tomo-env/lib/python3.9/multiprocessing/synchronize.py\", line 95, in __enter__\n",
      "    return self._semlock.__enter__()\n",
      "KeyboardInterrupt\n",
      "  File \"/home/minyu/miniconda3/envs/tomo-env/lib/python3.9/multiprocessing/synchronize.py\", line 95, in __enter__\n",
      "    return self._semlock.__enter__()\n",
      "KeyboardInterrupt\n",
      "KeyboardInterrupt\n",
      "  File \"/home/minyu/miniconda3/envs/tomo-env/lib/python3.9/multiprocessing/connection.py\", line 414, in _recv_bytes\n",
      "    buf = self._recv(4)\n",
      "KeyboardInterrupt\n",
      "KeyboardInterrupt\n",
      "KeyboardInterrupt\n",
      "KeyboardInterrupt\n",
      "  File \"/home/minyu/miniconda3/envs/tomo-env/lib/python3.9/multiprocessing/connection.py\", line 379, in _recv\n",
      "    chunk = read(handle, remaining)\n",
      "  File \"/home/minyu/miniconda3/envs/tomo-env/lib/python3.9/multiprocessing/queues.py\", line 364, in get\n",
      "    with self._rlock:\n",
      "  File \"/home/minyu/miniconda3/envs/tomo-env/lib/python3.9/multiprocessing/queues.py\", line 364, in get\n",
      "    with self._rlock:\n",
      "  File \"/home/minyu/miniconda3/envs/tomo-env/lib/python3.9/multiprocessing/synchronize.py\", line 95, in __enter__\n",
      "    return self._semlock.__enter__()\n",
      "KeyboardInterrupt\n",
      "  File \"/home/minyu/miniconda3/envs/tomo-env/lib/python3.9/multiprocessing/synchronize.py\", line 95, in __enter__\n",
      "    return self._semlock.__enter__()\n",
      "KeyboardInterrupt\n",
      "KeyboardInterrupt\n"
     ]
    }
   ],
   "source": [
    "stack = stack.astype(np.float32)\n",
    "stack /= np.max(stack)\n",
    "corrected_stack = np.zeros_like(stack)\n",
    "\n",
    "# Loop with progress bar and error handling\n",
    "for i in tqdm(range(stack.shape[0]), desc=\"Removing ring artifacts\"):\n",
    "    try:\n",
    "        corrected = tomopy.prep.stripe.remove_stripe_fw(\n",
    "            stack[i], level=2, wname='db2', sigma=1, pad=True\n",
    "        )\n",
    "\n",
    "        # Catch total zeroed slices\n",
    "        if corrected is None or np.all(corrected == 0):\n",
    "            print(f\"⚠️ Slice {i} returned None or zeros.\")\n",
    "            corrected = stack[i]\n",
    "\n",
    "        corrected_stack[i] = corrected\n",
    "\n",
    "    except Exception as e:\n",
    "        print(f\"❌ Error on slice {i}: {e}\")\n",
    "        corrected_stack[i] = stack[i]\n"
   ]
  },
  {
   "cell_type": "code",
   "execution_count": null,
   "id": "688e35b4-dd70-4e36-9bf2-5b4cc995594f",
   "metadata": {},
   "outputs": [],
   "source": [
    "mid = stack.shape[0] // 2\n",
    "print(f\"Original slice min/max: {stack[mid].min()} / {stack[mid].max()}\")\n",
    "print(f\"Corrected slice min/max: {corrected_stack[mid].min()} / {corrected_stack[mid].max()}\")"
   ]
  },
  {
   "cell_type": "code",
   "execution_count": null,
   "id": "34fabb96-02f7-45e9-a26e-015f82d5ae7d",
   "metadata": {},
   "outputs": [],
   "source": [
    "diff = stack[mid] - corrected_stack[mid]\n",
    "plt.imshow(diff, cmap='gray')\n",
    "plt.title(\"Difference (Original - Corrected)\")\n",
    "plt.colorbar()\n",
    "plt.show()"
   ]
  },
  {
   "cell_type": "code",
   "execution_count": null,
   "id": "51d9ddef-57d1-4fdf-918e-45604e5a8769",
   "metadata": {},
   "outputs": [],
   "source": [
    "mid = stack.shape[0] // 2\n",
    "\n",
    "plt.figure(figsize=(12, 6))\n",
    "\n",
    "plt.subplot(1, 2, 1)\n",
    "plt.imshow(stack[mid], cmap='gray', vmin=0, vmax=1)\n",
    "plt.title(\"Original\"); plt.axis('off')\n",
    "\n",
    "plt.subplot(1, 2, 2)\n",
    "plt.imshow(corrected_stack[mid], cmap='gray', vmin=0, vmax=1)\n",
    "plt.title(\"Corrected\"); plt.axis('off')\n",
    "\n",
    "plt.tight_layout()\n",
    "plt.show()\n"
   ]
  },
  {
   "cell_type": "code",
   "execution_count": null,
   "id": "1d06cc3b-3f23-4cbd-93a5-4e8cf5238cf1",
   "metadata": {},
   "outputs": [],
   "source": []
  }
 ],
 "metadata": {
  "kernelspec": {
   "display_name": "Python (tomo-env)",
   "language": "python",
   "name": "tomo-env"
  },
  "language_info": {
   "codemirror_mode": {
    "name": "ipython",
    "version": 3
   },
   "file_extension": ".py",
   "mimetype": "text/x-python",
   "name": "python",
   "nbconvert_exporter": "python",
   "pygments_lexer": "ipython3",
   "version": "3.9.21"
  }
 },
 "nbformat": 4,
 "nbformat_minor": 5
}
