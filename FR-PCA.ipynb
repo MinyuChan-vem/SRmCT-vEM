{
 "cells": [
  {
   "cell_type": "code",
   "execution_count": 1,
   "id": "6902e37c-6243-4ed0-a207-0409bcb8d19d",
   "metadata": {},
   "outputs": [
    {
     "name": "stdout",
     "output_type": "stream",
     "text": [
      "✅ Tract axis (PCA-derived, normalized):\n",
      "VecX: -0.8207, VecY: 0.5589, VecZ: 0.1186\n"
     ]
    }
   ],
   "source": [
    "import pyvista as pv\n",
    "import pandas as pd\n",
    "import numpy as np\n",
    "from sklearn.decomposition import PCA\n",
    "import matplotlib.pyplot as plt\n",
    "\n",
    "# --- Load FR STL mesh ---\n",
    "fr_mesh = pv.read(\"Desktop/Dragonfly sesh/fr-isolate.stl\")  # Update the path to your .stl file\n",
    "\n",
    "# Extract surface points\n",
    "fr_points = fr_mesh.points\n",
    "\n",
    "# Check if points were loaded\n",
    "if fr_points.shape[0] < 3:\n",
    "    raise ValueError(\"❌ Not enough points in the mesh. Check the STL export or segmentation.\")\n",
    "\n",
    "# --- Compute PCA on the point cloud ---\n",
    "pca = PCA(n_components=1)\n",
    "pca.fit(fr_points)\n",
    "tract_axis = pca.components_[0]\n",
    "tract_axis = tract_axis / np.linalg.norm(tract_axis)  # Normalize\n",
    "\n",
    "# --- Print the tract axis vector ---\n",
    "print(\"✅ Tract axis (PCA-derived, normalized):\")\n",
    "print(f\"VecX: {tract_axis[0]:.4f}, VecY: {tract_axis[1]:.4f}, VecZ: {tract_axis[2]:.4f}\")\n"
   ]
  },
  {
   "cell_type": "code",
   "execution_count": null,
   "id": "6ed81d7e-035f-4a0f-8cde-06defdf81f66",
   "metadata": {},
   "outputs": [],
   "source": []
  }
 ],
 "metadata": {
  "kernelspec": {
   "display_name": "Python 3 (ipykernel)",
   "language": "python",
   "name": "python3"
  },
  "language_info": {
   "codemirror_mode": {
    "name": "ipython",
    "version": 3
   },
   "file_extension": ".py",
   "mimetype": "text/x-python",
   "name": "python",
   "nbconvert_exporter": "python",
   "pygments_lexer": "ipython3",
   "version": "3.11.7"
  }
 },
 "nbformat": 4,
 "nbformat_minor": 5
}
